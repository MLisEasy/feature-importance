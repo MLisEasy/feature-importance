{
 "cells": [
  {
   "cell_type": "code",
   "execution_count": 47,
   "metadata": {},
   "outputs": [],
   "source": [
    "import numpy as np\n",
    "import pandas as pd\n",
    "import scipy.stats as stats\n",
    "import math"
   ]
  },
  {
   "cell_type": "code",
   "execution_count": 48,
   "metadata": {},
   "outputs": [],
   "source": [
    "population_age=np.random.randint(18,75,1000)"
   ]
  },
  {
   "cell_type": "code",
   "execution_count": 49,
   "metadata": {},
   "outputs": [
    {
     "data": {
      "text/plain": [
       "array([58, 36, 32, 59, 45, 41, 50, 42, 45, 29, 43, 60, 68, 54, 53, 73, 66,\n",
       "       38, 43, 59, 52, 27, 72, 60, 72, 18, 47, 68, 74, 22, 18, 47, 52, 30,\n",
       "       29, 52, 50, 68, 41, 19, 64, 51, 36, 60, 43, 62, 55, 48, 67, 44, 26,\n",
       "       56, 69, 58, 43, 63, 61, 60, 58, 60, 20, 31, 25, 51, 20, 68, 32, 19,\n",
       "       67, 41, 34, 66, 32, 45, 73, 70, 33, 21, 50, 72, 59, 52, 28, 71, 73,\n",
       "       67, 27, 37, 66, 64, 47, 37, 51, 34, 72, 70, 72, 26, 30, 36, 41, 74,\n",
       "       74, 24, 19, 63, 63, 34, 54, 50, 62, 24, 43, 46, 28, 23, 40, 64, 18,\n",
       "       46, 55, 34, 56, 70, 27, 55, 49, 34, 62, 52, 68, 24, 24, 44, 71, 49,\n",
       "       27, 20, 25, 68, 29, 38, 54, 43, 71, 35, 47, 55, 66, 31, 55, 45, 62,\n",
       "       20, 50, 22, 44, 69, 24, 46, 23, 56, 31, 42, 64, 43, 43, 73, 21, 55,\n",
       "       47, 50, 49, 73, 39, 41, 69, 34, 30, 31, 61, 44, 40, 19, 59, 66, 44,\n",
       "       40, 20, 21, 30, 41, 36, 66, 27, 72, 48, 32, 74, 48, 28, 74, 68, 54,\n",
       "       27, 49, 25, 71, 44, 64, 29, 41, 50, 32, 32, 67, 46, 55, 36, 35, 65,\n",
       "       35, 65, 33, 52, 58, 35, 48, 63, 49, 68, 54, 61, 38, 24, 22, 53, 64,\n",
       "       68, 73, 64, 46, 27, 66, 33, 28, 73, 55, 43, 38, 49, 65, 40, 66, 36,\n",
       "       58, 22, 39, 59, 64, 25, 36, 66, 41, 33, 36, 33, 30, 24, 67, 53, 59,\n",
       "       24, 42, 32, 26, 42, 58, 64, 62, 45, 45, 52, 19, 51, 40, 46, 60, 66,\n",
       "       55, 63, 59, 25, 71, 42, 59, 61, 24, 46, 22, 42, 20, 22, 60, 20, 22,\n",
       "       45, 66, 38, 41, 61, 29, 36, 65, 69, 72, 28, 55, 65, 21, 56, 21, 73,\n",
       "       69, 61, 25, 50, 73, 56, 41, 52, 38, 38, 53, 62, 21, 42, 46, 67, 48,\n",
       "       74, 56, 52, 18, 36, 62, 44, 54, 51, 52, 20, 46, 62, 52, 29, 36, 72,\n",
       "       54, 30, 67, 39, 29, 45, 32, 39, 36, 33, 20, 50, 46, 40, 49, 65, 57,\n",
       "       21, 72, 68, 53, 63, 70, 57, 58, 35, 43, 57, 32, 30, 59, 25, 22, 61,\n",
       "       59, 32, 24, 43, 70, 66, 64, 62, 36, 54, 22, 67, 38, 39, 53, 40, 18,\n",
       "       63, 68, 42, 19, 42, 38, 49, 35, 27, 47, 68, 32, 40, 68, 56, 41, 26,\n",
       "       52, 40, 62, 52, 47, 37, 47, 68, 53, 42, 73, 74, 27, 29, 50, 74, 40,\n",
       "       43, 49, 34, 20, 56, 42, 44, 19, 32, 48, 65, 67, 72, 50, 39, 39, 71,\n",
       "       68, 33, 18, 35, 63, 70, 49, 56, 30, 35, 44, 19, 54, 29, 22, 23, 22,\n",
       "       42, 19, 25, 47, 55, 60, 74, 56, 43, 23, 51, 61, 59, 56, 34, 36, 74,\n",
       "       69, 67, 33, 50, 36, 45, 50, 49, 28, 24, 44, 71, 52, 68, 59, 49, 35,\n",
       "       45, 31, 66, 59, 65, 36, 40, 18, 68, 50, 42, 66, 23, 43, 53, 48, 65,\n",
       "       18, 67, 42, 27, 19, 45, 20, 56, 52, 36, 73, 41, 70, 53, 69, 63, 49,\n",
       "       53, 65, 67, 38, 55, 57, 40, 21, 29, 22, 74, 57, 27, 68, 27, 74, 21,\n",
       "       18, 23, 23, 44, 68, 24, 31, 25, 71, 68, 37, 69, 55, 42, 60, 47, 39,\n",
       "       25, 34, 60, 47, 70, 27, 41, 50, 31, 34, 50, 72, 72, 35, 19, 55, 45,\n",
       "       72, 28, 25, 41, 60, 20, 52, 44, 21, 36, 47, 67, 26, 30, 64, 50, 63,\n",
       "       63, 59, 45, 32, 28, 65, 41, 56, 70, 41, 68, 35, 63, 59, 24, 69, 25,\n",
       "       33, 50, 46, 55, 23, 26, 26, 31, 31, 73, 51, 27, 74, 30, 65, 23, 33,\n",
       "       52, 49, 50, 31, 69, 26, 50, 52, 19, 52, 51, 26, 27, 60, 39, 56, 50,\n",
       "       18, 20, 28, 59, 61, 34, 69, 34, 66, 71, 34, 30, 63, 47, 36, 19, 43,\n",
       "       41, 67, 46, 66, 21, 45, 57, 54, 55, 26, 42, 68, 56, 74, 40, 48, 26,\n",
       "       53, 49, 30, 46, 60, 53, 21, 18, 29, 25, 69, 56, 37, 45, 40, 57, 46,\n",
       "       63, 25, 32, 48, 30, 29, 64, 57, 57, 34, 47, 60, 67, 55, 23, 32, 18,\n",
       "       20, 39, 51, 46, 63, 69, 29, 63, 18, 26, 28, 61, 25, 29, 25, 37, 24,\n",
       "       32, 24, 66, 49, 67, 62, 46, 60, 32, 48, 52, 18, 63, 53, 73, 18, 31,\n",
       "       34, 67, 20, 43, 39, 26, 54, 46, 67, 34, 51, 45, 69, 23, 40, 51, 28,\n",
       "       45, 39, 21, 57, 65, 64, 54, 68, 60, 51, 52, 42, 60, 58, 56, 55, 20,\n",
       "       63, 72, 28, 33, 20, 18, 31, 42, 38, 27, 62, 42, 49, 39, 69, 37, 57,\n",
       "       31, 20, 45, 48, 60, 58, 28, 35, 72, 65, 45, 18, 18, 25, 20, 69, 54,\n",
       "       48, 61, 41, 35, 37, 36, 47, 47, 29, 22, 38, 51, 72, 74, 62, 55, 65,\n",
       "       43, 52, 43, 39, 35, 41, 65, 49, 33, 71, 23, 19, 23, 35, 31, 49, 66,\n",
       "       64, 27, 74, 37, 18, 72, 45, 44, 66, 65, 40, 62, 40, 25, 34, 24, 71,\n",
       "       21, 30, 31, 34, 44, 18, 28, 20, 41, 48, 38, 68, 69, 22, 20, 36, 50,\n",
       "       67, 48, 55, 32, 48, 20, 27, 40, 54, 61, 45, 49, 48, 37, 18, 37, 21,\n",
       "       54, 36, 20, 20, 19, 55, 68, 46, 62, 35, 31, 60, 23, 62, 49, 40, 43,\n",
       "       73, 61, 51, 18, 49, 35, 26, 43, 21, 39, 49, 59, 74, 55, 41, 21, 42,\n",
       "       23, 66, 60, 52, 70, 47, 34, 40, 38, 38, 68, 63, 30, 67, 46, 40, 25,\n",
       "       28, 44, 36, 47, 73, 74, 33, 29, 63, 52, 55, 69, 55, 54, 57, 45, 47,\n",
       "       55, 70, 61, 19, 22, 50, 73, 43, 25, 37, 61, 52, 50, 68])"
      ]
     },
     "execution_count": 49,
     "metadata": {},
     "output_type": "execute_result"
    }
   ],
   "source": [
    "population_age"
   ]
  },
  {
   "cell_type": "code",
   "execution_count": 50,
   "metadata": {},
   "outputs": [
    {
     "data": {
      "text/plain": [
       "array([52, 65, 32, 39, 32, 35, 69, 26, 31, 45, 33, 42, 66, 27, 19, 24, 43,\n",
       "       30, 68, 19, 33, 58, 31, 50, 21, 70, 52, 62, 55, 74, 22, 63, 21, 42,\n",
       "       32, 71, 68, 31, 32, 72, 56, 23, 56, 38, 74, 52, 67, 21, 52, 52, 22,\n",
       "       65, 46, 46, 63, 36, 28, 57, 54, 54, 56, 22, 36, 62, 57, 38, 41, 40,\n",
       "       55, 29, 62, 72, 65, 60, 37, 71, 32, 30, 58, 50, 27, 59, 26, 52, 61,\n",
       "       41, 50, 35, 40, 68, 22, 52, 62, 43, 69, 44, 54, 25, 42, 69])"
      ]
     },
     "execution_count": 50,
     "metadata": {},
     "output_type": "execute_result"
    }
   ],
   "source": [
    "# now let's take a sample of 100 ages randomly\n",
    "\n",
    "sample_age=np.random.choice(population_age,100)\n",
    "sample_age"
   ]
  },
  {
   "cell_type": "code",
   "execution_count": 51,
   "metadata": {},
   "outputs": [
    {
     "name": "stdout",
     "output_type": "stream",
     "text": [
      "45.889\n",
      "46.33\n"
     ]
    }
   ],
   "source": [
    "# now let's find out the mean of sample and population\n",
    "\n",
    "print(np.mean(population_age))\n",
    "print(np.mean(sample_age))"
   ]
  },
  {
   "cell_type": "markdown",
   "metadata": {},
   "source": [
    "#### now here we get the mean of population and sample which are different, but how can we be able to know thaṭ the sample is a true representation of the population. By just looking at the mean we can't say that. \n",
    "### So here comes the idea of hypothesis testing:\n",
    "####               The null hypothesis says that both sample and population are same means sample represents the population properly, means they don't have any difference\n",
    "####               The alternate hypothesis says that they both are dofferent, means the sample doesn't represent the population"
   ]
  },
  {
   "cell_type": "markdown",
   "metadata": {},
   "source": [
    "### So For that we need to do the basic t-test which is called as one sample T-test, because we are comparing the mean of the sample and the mean of population to find out whether the sample represents the population or not and also whether the NULL hypothesis is true or the Alternate hypothesis is true"
   ]
  },
  {
   "cell_type": "markdown",
   "metadata": {},
   "source": [
    "#### now as we know that based on the significance value we can carry out the hypothesis testing, so let's take the significance value which is the p value as the conventional 0.05 which means that if the significance value goes less than the p-value or the confidence value of 5% then we will reject the NULL hypothesis and will accept the Alternate hypothesis"
   ]
  },
  {
   "cell_type": "code",
   "execution_count": 52,
   "metadata": {},
   "outputs": [],
   "source": [
    "# let's import the 1-sample test\n",
    "\n",
    "from scipy.stats import ttest_1samp"
   ]
  },
  {
   "cell_type": "code",
   "execution_count": 53,
   "metadata": {},
   "outputs": [
    {
     "data": {
      "text/plain": [
       "Ttest_1sampResult(statistic=0.27213556217262636, pvalue=0.7860845338314219)"
      ]
     },
     "execution_count": 53,
     "metadata": {},
     "output_type": "execute_result"
    }
   ],
   "source": [
    "ttest_1samp(sample_age,np.mean(population_age))"
   ]
  },
  {
   "cell_type": "markdown",
   "metadata": {},
   "source": [
    "### No wlet's discuss about 2-sample t test\n",
    "\n",
    "#### So in the 2-sample t test we basically compare 2 different samples to find out whether they are same or not.\n",
    "#### So here the NULL hypothesis says that the 2 samples we get are from the same distribution but ALTERNATE hypothesis says that the 2 samples are from different distributions"
   ]
  },
  {
   "cell_type": "code",
   "execution_count": 54,
   "metadata": {},
   "outputs": [],
   "source": [
    "# Let's take an example\n",
    "\n",
    "ages_sample2=stats.poisson.rvs(loc=18,mu=40,size=100) "
   ]
  },
  {
   "cell_type": "code",
   "execution_count": 63,
   "metadata": {},
   "outputs": [
    {
     "data": {
      "text/plain": [
       "array([63, 58, 55, 57, 66, 51, 54, 47, 58, 43, 60, 70, 58, 56, 54, 57, 58,\n",
       "       61, 57, 57, 60, 53, 76, 58, 68, 55, 63, 58, 74, 64, 64, 59, 56, 58,\n",
       "       58, 67, 42, 59, 58, 62, 59, 55, 58, 72, 64, 56, 62, 55, 58, 51, 55,\n",
       "       51, 62, 53, 66, 68, 63, 56, 51, 56, 47, 63, 56, 48, 54, 52, 48, 55,\n",
       "       62, 60, 63, 63, 72, 69, 56, 60, 60, 69, 61, 59, 54, 48, 62, 60, 61,\n",
       "       55, 68, 54, 64, 65, 51, 51, 61, 48, 61, 56, 54, 59, 65, 63])"
      ]
     },
     "execution_count": 63,
     "metadata": {},
     "output_type": "execute_result"
    }
   ],
   "source": [
    "ages_sample2"
   ]
  },
  {
   "cell_type": "code",
   "execution_count": 56,
   "metadata": {},
   "outputs": [
    {
     "data": {
      "text/plain": [
       "array([52, 65, 32, 39, 32, 35, 69, 26, 31, 45, 33, 42, 66, 27, 19, 24, 43,\n",
       "       30, 68, 19, 33, 58, 31, 50, 21, 70, 52, 62, 55, 74, 22, 63, 21, 42,\n",
       "       32, 71, 68, 31, 32, 72, 56, 23, 56, 38, 74, 52, 67, 21, 52, 52, 22,\n",
       "       65, 46, 46, 63, 36, 28, 57, 54, 54, 56, 22, 36, 62, 57, 38, 41, 40,\n",
       "       55, 29, 62, 72, 65, 60, 37, 71, 32, 30, 58, 50, 27, 59, 26, 52, 61,\n",
       "       41, 50, 35, 40, 68, 22, 52, 62, 43, 69, 44, 54, 25, 42, 69])"
      ]
     },
     "execution_count": 56,
     "metadata": {},
     "output_type": "execute_result"
    }
   ],
   "source": [
    "sample_age"
   ]
  },
  {
   "cell_type": "code",
   "execution_count": 64,
   "metadata": {},
   "outputs": [
    {
     "name": "stdout",
     "output_type": "stream",
     "text": [
      "58.6\n"
     ]
    }
   ],
   "source": [
    "# Let's find out the mean of age_sample2\n",
    "print(ages_sample2.mean())"
   ]
  },
  {
   "cell_type": "code",
   "execution_count": 65,
   "metadata": {},
   "outputs": [],
   "source": [
    "# LEt's import the library\n",
    "\n",
    "from scipy.stats import ttest_ind"
   ]
  },
  {
   "cell_type": "code",
   "execution_count": 66,
   "metadata": {},
   "outputs": [
    {
     "data": {
      "text/plain": [
       "Ttest_indResult(statistic=-7.0370809595027275, pvalue=1.0236096529996912e-10)"
      ]
     },
     "execution_count": 66,
     "metadata": {},
     "output_type": "execute_result"
    }
   ],
   "source": [
    "# now let's find out the ttest\n",
    "\n",
    "ttest_ind(a=sample_age,b=ages_sample2,equal_var=False) # equal_var assumes samples have equal variance or not, we consider it as no different variance"
   ]
  },
  {
   "cell_type": "markdown",
   "metadata": {},
   "source": [
    "\n",
    "#### Hence the ALTERNATE hypothesis is True which means both the samples belong to different distributions"
   ]
  },
  {
   "cell_type": "markdown",
   "metadata": {},
   "source": [
    "## Paired T Test"
   ]
  },
  {
   "cell_type": "markdown",
   "metadata": {},
   "source": [
    "#### Now let's discuss about a type of T test which deals with the samples of same population at different time intervals.\n",
    "\n",
    "#### For example let's say a particular vaccine is given a particlular group of people and we want to check if it has any impact on their weights measured. We have taken their weights before the vaccination and after the vaccination and now we want to check is there any difference in the weights beofre and after the vaccination"
   ]
  },
  {
   "cell_type": "markdown",
   "metadata": {},
   "source": [
    "#### So here we do the Paired T Test"
   ]
  },
  {
   "cell_type": "code",
   "execution_count": 60,
   "metadata": {},
   "outputs": [
    {
     "data": {
      "text/html": [
       "<div>\n",
       "<style scoped>\n",
       "    .dataframe tbody tr th:only-of-type {\n",
       "        vertical-align: middle;\n",
       "    }\n",
       "\n",
       "    .dataframe tbody tr th {\n",
       "        vertical-align: top;\n",
       "    }\n",
       "\n",
       "    .dataframe thead th {\n",
       "        text-align: right;\n",
       "    }\n",
       "</style>\n",
       "<table border=\"1\" class=\"dataframe\">\n",
       "  <thead>\n",
       "    <tr style=\"text-align: right;\">\n",
       "      <th></th>\n",
       "      <th>before</th>\n",
       "      <th>after</th>\n",
       "      <th>difference</th>\n",
       "    </tr>\n",
       "  </thead>\n",
       "  <tbody>\n",
       "    <tr>\n",
       "      <th>0</th>\n",
       "      <td>240.630146</td>\n",
       "      <td>235.459622</td>\n",
       "      <td>-5.170523</td>\n",
       "    </tr>\n",
       "    <tr>\n",
       "      <th>1</th>\n",
       "      <td>260.178541</td>\n",
       "      <td>258.357256</td>\n",
       "      <td>-1.821286</td>\n",
       "    </tr>\n",
       "    <tr>\n",
       "      <th>2</th>\n",
       "      <td>245.322744</td>\n",
       "      <td>246.033397</td>\n",
       "      <td>0.710653</td>\n",
       "    </tr>\n",
       "    <tr>\n",
       "      <th>3</th>\n",
       "      <td>234.946310</td>\n",
       "      <td>241.864426</td>\n",
       "      <td>6.918116</td>\n",
       "    </tr>\n",
       "    <tr>\n",
       "      <th>4</th>\n",
       "      <td>257.067067</td>\n",
       "      <td>253.135835</td>\n",
       "      <td>-3.931231</td>\n",
       "    </tr>\n",
       "    <tr>\n",
       "      <th>...</th>\n",
       "      <td>...</td>\n",
       "      <td>...</td>\n",
       "      <td>...</td>\n",
       "    </tr>\n",
       "    <tr>\n",
       "      <th>95</th>\n",
       "      <td>258.590998</td>\n",
       "      <td>264.748878</td>\n",
       "      <td>6.157880</td>\n",
       "    </tr>\n",
       "    <tr>\n",
       "      <th>96</th>\n",
       "      <td>218.560838</td>\n",
       "      <td>214.624371</td>\n",
       "      <td>-3.936467</td>\n",
       "    </tr>\n",
       "    <tr>\n",
       "      <th>97</th>\n",
       "      <td>244.406493</td>\n",
       "      <td>248.025206</td>\n",
       "      <td>3.618713</td>\n",
       "    </tr>\n",
       "    <tr>\n",
       "      <th>98</th>\n",
       "      <td>264.926647</td>\n",
       "      <td>264.080516</td>\n",
       "      <td>-0.846131</td>\n",
       "    </tr>\n",
       "    <tr>\n",
       "      <th>99</th>\n",
       "      <td>237.864934</td>\n",
       "      <td>245.567503</td>\n",
       "      <td>7.702569</td>\n",
       "    </tr>\n",
       "  </tbody>\n",
       "</table>\n",
       "<p>100 rows × 3 columns</p>\n",
       "</div>"
      ],
      "text/plain": [
       "        before       after  difference\n",
       "0   240.630146  235.459622   -5.170523\n",
       "1   260.178541  258.357256   -1.821286\n",
       "2   245.322744  246.033397    0.710653\n",
       "3   234.946310  241.864426    6.918116\n",
       "4   257.067067  253.135835   -3.931231\n",
       "..         ...         ...         ...\n",
       "95  258.590998  264.748878    6.157880\n",
       "96  218.560838  214.624371   -3.936467\n",
       "97  244.406493  248.025206    3.618713\n",
       "98  264.926647  264.080516   -0.846131\n",
       "99  237.864934  245.567503    7.702569\n",
       "\n",
       "[100 rows x 3 columns]"
      ]
     },
     "execution_count": 60,
     "metadata": {},
     "output_type": "execute_result"
    }
   ],
   "source": [
    "np.random.seed(15)\n",
    "\n",
    "before_vaccination=stats.norm.rvs(scale=30,loc=250,size=100)\n",
    "\n",
    "after_vaccination=before_vaccination+stats.norm.rvs(scale=5,loc=1.25,size=100)\n",
    "\n",
    "weights=pd.DataFrame({'before':before_vaccination,\n",
    "                     'after':after_vaccination,\n",
    "                     'difference':after_vaccination-before_vaccination})\n",
    "\n",
    "weights"
   ]
  },
  {
   "cell_type": "code",
   "execution_count": 61,
   "metadata": {},
   "outputs": [],
   "source": [
    "# So here we can use the ttest_rel function\n",
    "\n",
    "from scipy.stats import ttest_rel"
   ]
  },
  {
   "cell_type": "code",
   "execution_count": 62,
   "metadata": {},
   "outputs": [
    {
     "data": {
      "text/plain": [
       "Ttest_relResult(statistic=-1.9084762985889763, pvalue=0.059226433816612)"
      ]
     },
     "execution_count": 62,
     "metadata": {},
     "output_type": "execute_result"
    }
   ],
   "source": [
    "ttest_rel(a=before_vaccination,b=after_vaccination)"
   ]
  },
  {
   "cell_type": "markdown",
   "metadata": {},
   "source": [
    "#### Here the pvalue is 0.059226433816612 which is greater than the significance value 0.05, hence we can conclude that weight does not has an impact on the vaccination"
   ]
  },
  {
   "cell_type": "markdown",
   "metadata": {},
   "source": [
    "### Now this sample data is being prepared based pure imagination and has no practical evidence"
   ]
  },
  {
   "cell_type": "code",
   "execution_count": null,
   "metadata": {},
   "outputs": [],
   "source": []
  }
 ],
 "metadata": {
  "kernelspec": {
   "display_name": "Python 3",
   "language": "python",
   "name": "python3"
  },
  "language_info": {
   "codemirror_mode": {
    "name": "ipython",
    "version": 3
   },
   "file_extension": ".py",
   "mimetype": "text/x-python",
   "name": "python",
   "nbconvert_exporter": "python",
   "pygments_lexer": "ipython3",
   "version": "3.8.5"
  }
 },
 "nbformat": 4,
 "nbformat_minor": 4
}
